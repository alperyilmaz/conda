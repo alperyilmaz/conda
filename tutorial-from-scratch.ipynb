{
 "cells": [
  {
   "cell_type": "markdown",
   "metadata": {},
   "source": [
    "# Tutorial from scratch\n",
    "\n",
    "> you can learn only if you type! --anonymous\n",
    "\n",
    "Before starting the tutorial please clean up some folders. Non-existing folders might give error, please don't panic."
   ]
  },
  {
   "cell_type": "code",
   "execution_count": 1,
   "metadata": {},
   "outputs": [],
   "source": [
    "!rm mapped_reads_folder/* mapped_reads/* sorted_reads_folder/* sequences/D.fastq"
   ]
  },
  {
   "cell_type": "markdown",
   "metadata": {},
   "source": [
    "\n",
    "## populate wildcard\n",
    "\n",
    "use `rule all:` to populate final output files\n",
    "\n",
    "Snakefile-2019-06-10"
   ]
  },
  {
   "cell_type": "code",
   "execution_count": 2,
   "metadata": {},
   "outputs": [
    {
     "name": "stdout",
     "output_type": "stream",
     "text": [
      "\u001b[33mBuilding DAG of jobs...\u001b[0m\n",
      "\u001b[33mUsing shell: /bin/bash\u001b[0m\n",
      "\u001b[33mProvided cores: 1\u001b[0m\n",
      "\u001b[33mRules claiming more threads will be scaled down.\u001b[0m\n",
      "\u001b[33mJob counts:\n",
      "\tcount\tjobs\n",
      "\t1\tall\n",
      "\t3\tbwa_map\n",
      "\t4\u001b[0m\n",
      "\u001b[32m\u001b[0m\n",
      "\u001b[32m[Mon Jun 10 10:41:40 2019]\u001b[0m\n",
      "\u001b[32mrule bwa_map:\n",
      "    input: data/genome.fa, data/samples/B.fastq\n",
      "    output: mapped_reads/B.bam\n",
      "    jobid: 2\n",
      "    wildcards: sample=B\u001b[0m\n",
      "\u001b[32m\u001b[0m\n",
      "[M::bwa_idx_load_from_disk] read 0 ALT contigs\n",
      "[M::process] read 25000 sequences (2525000 bp)...\n",
      "[M::mem_process_seqs] Processed 25000 reads in 1.357 CPU sec, 1.409 real sec\n",
      "[main] Version: 0.7.17-r1188\n",
      "[main] CMD: bwa mem data/genome.fa data/samples/B.fastq\n",
      "[main] Real time: 1.814 sec; CPU: 1.533 sec\n",
      "\u001b[32m[Mon Jun 10 10:41:41 2019]\u001b[0m\n",
      "\u001b[32mFinished job 2.\u001b[0m\n",
      "\u001b[32m1 of 4 steps (25%) done\u001b[0m\n",
      "\u001b[32m\u001b[0m\n",
      "\u001b[32m[Mon Jun 10 10:41:41 2019]\u001b[0m\n",
      "\u001b[32mrule bwa_map:\n",
      "    input: data/genome.fa, data/samples/C.fastq\n",
      "    output: mapped_reads/C.bam\n",
      "    jobid: 1\n",
      "    wildcards: sample=C\u001b[0m\n",
      "\u001b[32m\u001b[0m\n",
      "[M::bwa_idx_load_from_disk] read 0 ALT contigs\n",
      "[M::process] read 25000 sequences (2525000 bp)...\n",
      "[M::mem_process_seqs] Processed 25000 reads in 1.409 CPU sec, 1.458 real sec\n",
      "[main] Version: 0.7.17-r1188\n",
      "[main] CMD: bwa mem data/genome.fa data/samples/C.fastq\n",
      "[main] Real time: 1.921 sec; CPU: 1.607 sec\n",
      "\u001b[32m[Mon Jun 10 10:41:43 2019]\u001b[0m\n",
      "\u001b[32mFinished job 1.\u001b[0m\n",
      "\u001b[32m2 of 4 steps (50%) done\u001b[0m\n",
      "\u001b[32m\u001b[0m\n",
      "\u001b[32m[Mon Jun 10 10:41:43 2019]\u001b[0m\n",
      "\u001b[32mrule bwa_map:\n",
      "    input: data/genome.fa, data/samples/A.fastq\n",
      "    output: mapped_reads/A.bam\n",
      "    jobid: 3\n",
      "    wildcards: sample=A\u001b[0m\n",
      "\u001b[32m\u001b[0m\n",
      "[M::bwa_idx_load_from_disk] read 0 ALT contigs\n",
      "[M::process] read 25000 sequences (2525000 bp)...\n",
      "[M::mem_process_seqs] Processed 25000 reads in 1.355 CPU sec, 1.409 real sec\n",
      "[main] Version: 0.7.17-r1188\n",
      "[main] CMD: bwa mem data/genome.fa data/samples/A.fastq\n",
      "[main] Real time: 1.876 sec; CPU: 1.574 sec\n",
      "\u001b[32m[Mon Jun 10 10:41:45 2019]\u001b[0m\n",
      "\u001b[32mFinished job 3.\u001b[0m\n",
      "\u001b[32m3 of 4 steps (75%) done\u001b[0m\n",
      "\u001b[32m\u001b[0m\n",
      "\u001b[32m[Mon Jun 10 10:41:45 2019]\u001b[0m\n",
      "\u001b[32mlocalrule all:\n",
      "    input: mapped_reads/A.bam, mapped_reads/B.bam, mapped_reads/C.bam\n",
      "    jobid: 0\u001b[0m\n",
      "\u001b[32m\u001b[0m\n",
      "\u001b[32m[Mon Jun 10 10:41:45 2019]\u001b[0m\n",
      "\u001b[32mFinished job 0.\u001b[0m\n",
      "\u001b[32m4 of 4 steps (100%) done\u001b[0m\n",
      "\u001b[33mComplete log: /home/jovyan/.snakemake/log/2019-06-10T104140.052269.snakemake.log\u001b[0m\n"
     ]
    }
   ],
   "source": [
    "! snakemake -s Snakefile-2019-06-10"
   ]
  },
  {
   "cell_type": "code",
   "execution_count": 3,
   "metadata": {},
   "outputs": [
    {
     "name": "stdout",
     "output_type": "stream",
     "text": [
      "mapped_reads/:\n",
      "A.bam  B.bam  C.bam\n",
      "\n",
      "sequences/:\n",
      "A.fastq  B.fastq  C.fastq\n"
     ]
    }
   ],
   "source": [
    "! ls sequences/ mapped_reads/"
   ]
  },
  {
   "cell_type": "markdown",
   "metadata": {},
   "source": [
    "## populate wildcard from a folder\n",
    "\n",
    "Since snakefiles are python files, you can embed code to parse filenames from a folder\n",
    "\n",
    "let's copy fastq files from data/samples to sequences folder to keep stuff tidy"
   ]
  },
  {
   "cell_type": "code",
   "execution_count": 4,
   "metadata": {},
   "outputs": [
    {
     "name": "stdout",
     "output_type": "stream",
     "text": [
      "\u001b[33mBuilding DAG of jobs...\u001b[0m\n",
      "\u001b[33mUsing shell: /bin/bash\u001b[0m\n",
      "\u001b[33mProvided cores: 1\u001b[0m\n",
      "\u001b[33mRules claiming more threads will be scaled down.\u001b[0m\n",
      "\u001b[33mJob counts:\n",
      "\tcount\tjobs\n",
      "\t1\tall\n",
      "\t3\tbwa_map\n",
      "\t4\u001b[0m\n",
      "\u001b[32m\u001b[0m\n",
      "\u001b[32m[Mon Jun 10 10:41:47 2019]\u001b[0m\n",
      "\u001b[32mrule bwa_map:\n",
      "    input: data/genome.fa, sequences/C.fastq\n",
      "    output: mapped_reads_folder/C.bam\n",
      "    jobid: 3\n",
      "    wildcards: sample=C\u001b[0m\n",
      "\u001b[32m\u001b[0m\n",
      "[M::bwa_idx_load_from_disk] read 0 ALT contigs\n",
      "[M::process] read 25000 sequences (2525000 bp)...\n",
      "[M::mem_process_seqs] Processed 25000 reads in 1.319 CPU sec, 1.361 real sec\n",
      "[main] Version: 0.7.17-r1188\n",
      "[main] CMD: bwa mem data/genome.fa sequences/C.fastq\n",
      "[main] Real time: 1.818 sec; CPU: 1.555 sec\n",
      "\u001b[32m[Mon Jun 10 10:41:49 2019]\u001b[0m\n",
      "\u001b[32mFinished job 3.\u001b[0m\n",
      "\u001b[32m1 of 4 steps (25%) done\u001b[0m\n",
      "\u001b[32m\u001b[0m\n",
      "\u001b[32m[Mon Jun 10 10:41:49 2019]\u001b[0m\n",
      "\u001b[32mrule bwa_map:\n",
      "    input: data/genome.fa, sequences/B.fastq\n",
      "    output: mapped_reads_folder/B.bam\n",
      "    jobid: 2\n",
      "    wildcards: sample=B\u001b[0m\n",
      "\u001b[32m\u001b[0m\n",
      "[M::bwa_idx_load_from_disk] read 0 ALT contigs\n",
      "[M::process] read 25000 sequences (2525000 bp)...\n",
      "[M::mem_process_seqs] Processed 25000 reads in 1.460 CPU sec, 1.535 real sec\n",
      "[main] Version: 0.7.17-r1188\n",
      "[main] CMD: bwa mem data/genome.fa sequences/B.fastq\n",
      "[main] Real time: 1.941 sec; CPU: 1.646 sec\n",
      "\u001b[32m[Mon Jun 10 10:41:51 2019]\u001b[0m\n",
      "\u001b[32mFinished job 2.\u001b[0m\n",
      "\u001b[32m2 of 4 steps (50%) done\u001b[0m\n",
      "\u001b[32m\u001b[0m\n",
      "\u001b[32m[Mon Jun 10 10:41:51 2019]\u001b[0m\n",
      "\u001b[32mrule bwa_map:\n",
      "    input: data/genome.fa, sequences/A.fastq\n",
      "    output: mapped_reads_folder/A.bam\n",
      "    jobid: 1\n",
      "    wildcards: sample=A\u001b[0m\n",
      "\u001b[32m\u001b[0m\n",
      "[M::bwa_idx_load_from_disk] read 0 ALT contigs\n",
      "[M::process] read 25000 sequences (2525000 bp)...\n",
      "[M::mem_process_seqs] Processed 25000 reads in 1.429 CPU sec, 1.498 real sec\n",
      "[main] Version: 0.7.17-r1188\n",
      "[main] CMD: bwa mem data/genome.fa sequences/A.fastq\n",
      "[main] Real time: 1.949 sec; CPU: 1.642 sec\n",
      "\u001b[32m[Mon Jun 10 10:41:53 2019]\u001b[0m\n",
      "\u001b[32mFinished job 1.\u001b[0m\n",
      "\u001b[32m3 of 4 steps (75%) done\u001b[0m\n",
      "\u001b[32m\u001b[0m\n",
      "\u001b[32m[Mon Jun 10 10:41:53 2019]\u001b[0m\n",
      "\u001b[32mlocalrule all:\n",
      "    input: mapped_reads_folder/B.bam, mapped_reads_folder/A.bam, mapped_reads_folder/C.bam\n",
      "    jobid: 0\u001b[0m\n",
      "\u001b[32m\u001b[0m\n",
      "\u001b[32m[Mon Jun 10 10:41:53 2019]\u001b[0m\n",
      "\u001b[32mFinished job 0.\u001b[0m\n",
      "\u001b[32m4 of 4 steps (100%) done\u001b[0m\n",
      "\u001b[33mComplete log: /home/jovyan/.snakemake/log/2019-06-10T104147.645344.snakemake.log\u001b[0m\n"
     ]
    }
   ],
   "source": [
    "! snakemake -s Snakefile-2019-06-10b"
   ]
  },
  {
   "cell_type": "markdown",
   "metadata": {},
   "source": [
    "Let's add a new file under sequences/ folder and run it again."
   ]
  },
  {
   "cell_type": "code",
   "execution_count": 5,
   "metadata": {},
   "outputs": [],
   "source": [
    "! cp sequences/C.fastq sequences/D.fastq"
   ]
  },
  {
   "cell_type": "code",
   "execution_count": 6,
   "metadata": {},
   "outputs": [
    {
     "name": "stdout",
     "output_type": "stream",
     "text": [
      "mapped_reads_folder/:\n",
      "A.bam  B.bam  C.bam\n",
      "\n",
      "sequences/:\n",
      "A.fastq  B.fastq  C.fastq  D.fastq\n"
     ]
    }
   ],
   "source": [
    "! ls sequences/ mapped_reads_folder/"
   ]
  },
  {
   "cell_type": "code",
   "execution_count": 7,
   "metadata": {},
   "outputs": [
    {
     "name": "stdout",
     "output_type": "stream",
     "text": [
      "\u001b[33mBuilding DAG of jobs...\u001b[0m\n",
      "\u001b[33mUsing shell: /bin/bash\u001b[0m\n",
      "\u001b[33mProvided cores: 1\u001b[0m\n",
      "\u001b[33mRules claiming more threads will be scaled down.\u001b[0m\n",
      "\u001b[33mJob counts:\n",
      "\tcount\tjobs\n",
      "\t1\tall\n",
      "\t1\tbwa_map\n",
      "\t2\u001b[0m\n",
      "\u001b[32m\u001b[0m\n",
      "\u001b[32m[Mon Jun 10 10:41:56 2019]\u001b[0m\n",
      "\u001b[32mrule bwa_map:\n",
      "    input: data/genome.fa, sequences/D.fastq\n",
      "    output: mapped_reads_folder/D.bam\n",
      "    jobid: 4\n",
      "    wildcards: sample=D\u001b[0m\n",
      "\u001b[32m\u001b[0m\n",
      "[M::bwa_idx_load_from_disk] read 0 ALT contigs\n",
      "[M::process] read 25000 sequences (2525000 bp)...\n",
      "[M::mem_process_seqs] Processed 25000 reads in 1.279 CPU sec, 1.327 real sec\n",
      "[main] Version: 0.7.17-r1188\n",
      "[main] CMD: bwa mem data/genome.fa sequences/D.fastq\n",
      "[main] Real time: 1.712 sec; CPU: 1.467 sec\n",
      "\u001b[32m[Mon Jun 10 10:41:57 2019]\u001b[0m\n",
      "\u001b[32mFinished job 4.\u001b[0m\n",
      "\u001b[32m1 of 2 steps (50%) done\u001b[0m\n",
      "\u001b[32m\u001b[0m\n",
      "\u001b[32m[Mon Jun 10 10:41:57 2019]\u001b[0m\n",
      "\u001b[32mlocalrule all:\n",
      "    input: mapped_reads_folder/B.bam, mapped_reads_folder/A.bam, mapped_reads_folder/C.bam, mapped_reads_folder/D.bam\n",
      "    jobid: 0\u001b[0m\n",
      "\u001b[32m\u001b[0m\n",
      "\u001b[32m[Mon Jun 10 10:41:57 2019]\u001b[0m\n",
      "\u001b[32mFinished job 0.\u001b[0m\n",
      "\u001b[32m2 of 2 steps (100%) done\u001b[0m\n",
      "\u001b[33mComplete log: /home/jovyan/.snakemake/log/2019-06-10T104156.039668.snakemake.log\u001b[0m\n"
     ]
    }
   ],
   "source": [
    "! snakemake -s Snakefile-2019-06-10b"
   ]
  },
  {
   "cell_type": "markdown",
   "metadata": {},
   "source": [
    "## populate wildcard from config file\n",
    "\n",
    "you can generate config file for list of input files and from that file you can generate wildcards. The config file can be generated by hand or by script. You can use Python, R or bash script to generate config file listing all samples. The config file `config_folder.yaml` has been generated with following terminal command:\n",
    "\n",
    "```bash\n",
    "ls -1 sequences/ | cut -d\".\" -f1 | awk 'BEGIN{print \"samples_in_folder:\"}{print \" -\",$1}' > config_folder.yaml\n",
    "```\n",
    "\n",
    "**note:** before we proceed, let's clear the output files\n"
   ]
  },
  {
   "cell_type": "code",
   "execution_count": 8,
   "metadata": {},
   "outputs": [],
   "source": [
    "! rm mapped_reads_folder/*"
   ]
  },
  {
   "cell_type": "code",
   "execution_count": 9,
   "metadata": {},
   "outputs": [
    {
     "name": "stdout",
     "output_type": "stream",
     "text": [
      "\u001b[33mBuilding DAG of jobs...\u001b[0m\n",
      "\u001b[33mUsing shell: /bin/bash\u001b[0m\n",
      "\u001b[33mProvided cores: 1\u001b[0m\n",
      "\u001b[33mRules claiming more threads will be scaled down.\u001b[0m\n",
      "\u001b[33mJob counts:\n",
      "\tcount\tjobs\n",
      "\t1\tall\n",
      "\t4\tbwa_map\n",
      "\t5\u001b[0m\n",
      "\u001b[32m\u001b[0m\n",
      "\u001b[32m[Mon Jun 10 10:41:59 2019]\u001b[0m\n",
      "\u001b[32mrule bwa_map:\n",
      "    input: data/genome.fa, sequences/C.fastq\n",
      "    output: mapped_reads_folder/C.bam\n",
      "    jobid: 4\n",
      "    wildcards: sample=C\u001b[0m\n",
      "\u001b[32m\u001b[0m\n",
      "[M::bwa_idx_load_from_disk] read 0 ALT contigs\n",
      "[M::process] read 25000 sequences (2525000 bp)...\n",
      "[M::mem_process_seqs] Processed 25000 reads in 1.303 CPU sec, 1.342 real sec\n",
      "[main] Version: 0.7.17-r1188\n",
      "[main] CMD: bwa mem data/genome.fa sequences/C.fastq\n",
      "[main] Real time: 1.751 sec; CPU: 1.497 sec\n",
      "\u001b[32m[Mon Jun 10 10:42:01 2019]\u001b[0m\n",
      "\u001b[32mFinished job 4.\u001b[0m\n",
      "\u001b[32m1 of 5 steps (20%) done\u001b[0m\n",
      "\u001b[32m\u001b[0m\n",
      "\u001b[32m[Mon Jun 10 10:42:01 2019]\u001b[0m\n",
      "\u001b[32mrule bwa_map:\n",
      "    input: data/genome.fa, sequences/D.fastq\n",
      "    output: mapped_reads_folder/D.bam\n",
      "    jobid: 3\n",
      "    wildcards: sample=D\u001b[0m\n",
      "\u001b[32m\u001b[0m\n",
      "[M::bwa_idx_load_from_disk] read 0 ALT contigs\n",
      "[M::process] read 25000 sequences (2525000 bp)...\n",
      "[M::mem_process_seqs] Processed 25000 reads in 1.372 CPU sec, 1.431 real sec\n",
      "[main] Version: 0.7.17-r1188\n",
      "[main] CMD: bwa mem data/genome.fa sequences/D.fastq\n",
      "[main] Real time: 1.845 sec; CPU: 1.560 sec\n",
      "\u001b[32m[Mon Jun 10 10:42:03 2019]\u001b[0m\n",
      "\u001b[32mFinished job 3.\u001b[0m\n",
      "\u001b[32m2 of 5 steps (40%) done\u001b[0m\n",
      "\u001b[32m\u001b[0m\n",
      "\u001b[32m[Mon Jun 10 10:42:03 2019]\u001b[0m\n",
      "\u001b[32mrule bwa_map:\n",
      "    input: data/genome.fa, sequences/B.fastq\n",
      "    output: mapped_reads_folder/B.bam\n",
      "    jobid: 2\n",
      "    wildcards: sample=B\u001b[0m\n",
      "\u001b[32m\u001b[0m\n",
      "[M::bwa_idx_load_from_disk] read 0 ALT contigs\n",
      "[M::process] read 25000 sequences (2525000 bp)...\n",
      "[M::mem_process_seqs] Processed 25000 reads in 1.364 CPU sec, 1.407 real sec\n",
      "[main] Version: 0.7.17-r1188\n",
      "[main] CMD: bwa mem data/genome.fa sequences/B.fastq\n",
      "[main] Real time: 1.845 sec; CPU: 1.586 sec\n",
      "\u001b[32m[Mon Jun 10 10:42:05 2019]\u001b[0m\n",
      "\u001b[32mFinished job 2.\u001b[0m\n",
      "\u001b[32m3 of 5 steps (60%) done\u001b[0m\n",
      "\u001b[32m\u001b[0m\n",
      "\u001b[32m[Mon Jun 10 10:42:05 2019]\u001b[0m\n",
      "\u001b[32mrule bwa_map:\n",
      "    input: data/genome.fa, sequences/A.fastq\n",
      "    output: mapped_reads_folder/A.bam\n",
      "    jobid: 1\n",
      "    wildcards: sample=A\u001b[0m\n",
      "\u001b[32m\u001b[0m\n",
      "[M::bwa_idx_load_from_disk] read 0 ALT contigs\n",
      "[M::process] read 25000 sequences (2525000 bp)...\n",
      "[M::mem_process_seqs] Processed 25000 reads in 1.320 CPU sec, 1.363 real sec\n",
      "[main] Version: 0.7.17-r1188\n",
      "[main] CMD: bwa mem data/genome.fa sequences/A.fastq\n",
      "[main] Real time: 1.778 sec; CPU: 1.531 sec\n",
      "\u001b[32m[Mon Jun 10 10:42:07 2019]\u001b[0m\n",
      "\u001b[32mFinished job 1.\u001b[0m\n",
      "\u001b[32m4 of 5 steps (80%) done\u001b[0m\n",
      "\u001b[32m\u001b[0m\n",
      "\u001b[32m[Mon Jun 10 10:42:07 2019]\u001b[0m\n",
      "\u001b[32mlocalrule all:\n",
      "    input: mapped_reads_folder/A.bam, mapped_reads_folder/B.bam, mapped_reads_folder/C.bam, mapped_reads_folder/D.bam\n",
      "    jobid: 0\u001b[0m\n",
      "\u001b[32m\u001b[0m\n",
      "\u001b[32m[Mon Jun 10 10:42:07 2019]\u001b[0m\n",
      "\u001b[32mFinished job 0.\u001b[0m\n",
      "\u001b[32m5 of 5 steps (100%) done\u001b[0m\n",
      "\u001b[33mComplete log: /home/jovyan/.snakemake/log/2019-06-10T104159.716367.snakemake.log\u001b[0m\n"
     ]
    }
   ],
   "source": [
    "! snakemake -s Snakefile-2019-06-10c"
   ]
  },
  {
   "cell_type": "markdown",
   "metadata": {},
   "source": [
    "## use wrapper and proceed two steps\n",
    "\n",
    "now, let's use snakemake wrappers and do alignment and sorting.\n",
    "\n",
    "> let's remove two mapped reads from folder then run the snakamake. during the first run with conda environment, it will take time to download the environment, please be patient."
   ]
  },
  {
   "cell_type": "code",
   "execution_count": 10,
   "metadata": {},
   "outputs": [],
   "source": [
    "! rm mapped_reads_folder/C.bam mapped_reads_folder/D.bam"
   ]
  },
  {
   "cell_type": "code",
   "execution_count": 11,
   "metadata": {},
   "outputs": [
    {
     "name": "stdout",
     "output_type": "stream",
     "text": [
      "mapped_reads_folder/:\n",
      "A.bam  B.bam\n",
      "\n",
      "sequences/:\n",
      "A.fastq  B.fastq  C.fastq  D.fastq\n"
     ]
    }
   ],
   "source": [
    "! ls mapped_reads_folder/ sequences/"
   ]
  },
  {
   "cell_type": "code",
   "execution_count": 12,
   "metadata": {},
   "outputs": [
    {
     "name": "stdout",
     "output_type": "stream",
     "text": [
      "\u001b[33mBuilding DAG of jobs...\u001b[0m\n",
      "\u001b[33mUsing shell: /bin/bash\u001b[0m\n",
      "\u001b[33mProvided cores: 1\u001b[0m\n",
      "\u001b[33mRules claiming more threads will be scaled down.\u001b[0m\n",
      "\u001b[33mJob counts:\n",
      "\tcount\tjobs\n",
      "\t1\tall\n",
      "\t2\tbwa_mem\n",
      "\t4\tsamtools_sort\n",
      "\t7\u001b[0m\n",
      "\u001b[32m\u001b[0m\n",
      "\u001b[32m[Mon Jun 10 10:42:10 2019]\u001b[0m\n",
      "\u001b[32mrule bwa_mem:\n",
      "    input: data/genome.fa, sequences/C.fastq\n",
      "    output: mapped_reads_folder/C.bam\n",
      "    log: logs/bwa_mem_folder/C.log\n",
      "    jobid: 7\n",
      "    wildcards: sample=C\u001b[0m\n",
      "\u001b[32m\u001b[0m\n",
      "\u001b[33mActivating conda environment: /home/jovyan/.snakemake/conda/ac003676\u001b[0m\n",
      "\u001b[32m[Mon Jun 10 10:42:14 2019]\u001b[0m\n",
      "\u001b[32mFinished job 7.\u001b[0m\n",
      "\u001b[32m1 of 7 steps (14%) done\u001b[0m\n",
      "\u001b[32m\u001b[0m\n",
      "\u001b[32m[Mon Jun 10 10:42:14 2019]\u001b[0m\n",
      "\u001b[32mrule bwa_mem:\n",
      "    input: data/genome.fa, sequences/D.fastq\n",
      "    output: mapped_reads_folder/D.bam\n",
      "    log: logs/bwa_mem_folder/D.log\n",
      "    jobid: 5\n",
      "    wildcards: sample=D\u001b[0m\n",
      "\u001b[32m\u001b[0m\n",
      "\u001b[33mActivating conda environment: /home/jovyan/.snakemake/conda/ac003676\u001b[0m\n",
      "\u001b[32m[Mon Jun 10 10:42:18 2019]\u001b[0m\n",
      "\u001b[32mFinished job 5.\u001b[0m\n",
      "\u001b[32m2 of 7 steps (29%) done\u001b[0m\n",
      "\u001b[32m\u001b[0m\n",
      "\u001b[32m[Mon Jun 10 10:42:18 2019]\u001b[0m\n",
      "\u001b[32mrule samtools_sort:\n",
      "    input: mapped_reads_folder/B.bam\n",
      "    output: sorted_reads_folder/B.bam\n",
      "    jobid: 2\n",
      "    wildcards: sample=B\u001b[0m\n",
      "\u001b[32m\u001b[0m\n",
      "\u001b[33mActivating conda environment: /home/jovyan/.snakemake/conda/584348a3\u001b[0m\n",
      "\u001b[32m[Mon Jun 10 10:42:19 2019]\u001b[0m\n",
      "\u001b[32mFinished job 2.\u001b[0m\n",
      "\u001b[32m3 of 7 steps (43%) done\u001b[0m\n",
      "\u001b[32m\u001b[0m\n",
      "\u001b[32m[Mon Jun 10 10:42:19 2019]\u001b[0m\n",
      "\u001b[32mrule samtools_sort:\n",
      "    input: mapped_reads_folder/C.bam\n",
      "    output: sorted_reads_folder/C.bam\n",
      "    jobid: 3\n",
      "    wildcards: sample=C\u001b[0m\n",
      "\u001b[32m\u001b[0m\n",
      "\u001b[33mActivating conda environment: /home/jovyan/.snakemake/conda/584348a3\u001b[0m\n",
      "\u001b[32m[Mon Jun 10 10:42:20 2019]\u001b[0m\n",
      "\u001b[32mFinished job 3.\u001b[0m\n",
      "\u001b[32m4 of 7 steps (57%) done\u001b[0m\n",
      "\u001b[32m\u001b[0m\n",
      "\u001b[32m[Mon Jun 10 10:42:20 2019]\u001b[0m\n",
      "\u001b[32mrule samtools_sort:\n",
      "    input: mapped_reads_folder/D.bam\n",
      "    output: sorted_reads_folder/D.bam\n",
      "    jobid: 1\n",
      "    wildcards: sample=D\u001b[0m\n",
      "\u001b[32m\u001b[0m\n",
      "\u001b[33mActivating conda environment: /home/jovyan/.snakemake/conda/584348a3\u001b[0m\n",
      "\u001b[32m[Mon Jun 10 10:42:21 2019]\u001b[0m\n",
      "\u001b[32mFinished job 1.\u001b[0m\n",
      "\u001b[32m5 of 7 steps (71%) done\u001b[0m\n",
      "\u001b[32m\u001b[0m\n",
      "\u001b[32m[Mon Jun 10 10:42:21 2019]\u001b[0m\n",
      "\u001b[32mrule samtools_sort:\n",
      "    input: mapped_reads_folder/A.bam\n",
      "    output: sorted_reads_folder/A.bam\n",
      "    jobid: 4\n",
      "    wildcards: sample=A\u001b[0m\n",
      "\u001b[32m\u001b[0m\n",
      "\u001b[33mActivating conda environment: /home/jovyan/.snakemake/conda/584348a3\u001b[0m\n",
      "\u001b[32m[Mon Jun 10 10:42:22 2019]\u001b[0m\n",
      "\u001b[32mFinished job 4.\u001b[0m\n",
      "\u001b[32m6 of 7 steps (86%) done\u001b[0m\n",
      "\u001b[32m\u001b[0m\n",
      "\u001b[32m[Mon Jun 10 10:42:22 2019]\u001b[0m\n",
      "\u001b[32mlocalrule all:\n",
      "    input: sorted_reads_folder/A.bam, sorted_reads_folder/B.bam, sorted_reads_folder/C.bam, sorted_reads_folder/D.bam\n",
      "    jobid: 0\u001b[0m\n",
      "\u001b[32m\u001b[0m\n",
      "\u001b[32m[Mon Jun 10 10:42:22 2019]\u001b[0m\n",
      "\u001b[32mFinished job 0.\u001b[0m\n",
      "\u001b[32m7 of 7 steps (100%) done\u001b[0m\n",
      "\u001b[33mComplete log: /home/jovyan/.snakemake/log/2019-06-10T104209.814059.snakemake.log\u001b[0m\n"
     ]
    }
   ],
   "source": [
    "! snakemake -s Snakefile-2019-06-10d --use-conda"
   ]
  },
  {
   "cell_type": "markdown",
   "metadata": {},
   "source": [
    "**TODO**:\n",
    "\n",
    "* modify for paired end input (ie. A1.fastq, A2.fastq)\n",
    "* check 0.35 of bwa mem\n",
    "* add samtools index step"
   ]
  }
 ],
 "metadata": {
  "kernelspec": {
   "display_name": "Python 3",
   "language": "python",
   "name": "python3"
  },
  "language_info": {
   "codemirror_mode": {
    "name": "ipython",
    "version": 3
   },
   "file_extension": ".py",
   "mimetype": "text/x-python",
   "name": "python",
   "nbconvert_exporter": "python",
   "pygments_lexer": "ipython3",
   "version": "3.6.5"
  }
 },
 "nbformat": 4,
 "nbformat_minor": 2
}
